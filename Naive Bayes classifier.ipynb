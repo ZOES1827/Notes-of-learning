{
 "cells": [
  {
   "cell_type": "code",
   "execution_count": 1,
   "id": "87ae7662-2e4f-4777-8ce4-33fb92b9163c",
   "metadata": {},
   "outputs": [
    {
     "name": "stdout",
     "output_type": "stream",
     "text": [
      "Feature counts:\n",
      "{0: array([0, 1, 0, 2]), 1: array([2, 0, 2, 1])}\n"
     ]
    }
   ],
   "source": [
    "import numpy as np\n",
    "X=np.array([[0,1,0,1],[1,0,1,1],[0,0,0,1],[1,0,1,0]])\n",
    "y=np.array([0,1,0,1])\n",
    "counts={}\n",
    "for label in np.unique(y):\n",
    "    counts[label]=X[y==label].sum(axis=0)\n",
    "print(\"Feature counts:\\n{}\".format(counts))"
   ]
  },
  {
   "cell_type": "code",
   "execution_count": null,
   "id": "3541e181-b3ca-4f86-8714-893a768f2c05",
   "metadata": {},
   "outputs": [],
   "source": []
  }
 ],
 "metadata": {
  "kernelspec": {
   "display_name": "Python 3 (ipykernel)",
   "language": "python",
   "name": "python3"
  },
  "language_info": {
   "codemirror_mode": {
    "name": "ipython",
    "version": 3
   },
   "file_extension": ".py",
   "mimetype": "text/x-python",
   "name": "python",
   "nbconvert_exporter": "python",
   "pygments_lexer": "ipython3",
   "version": "3.11.7"
  }
 },
 "nbformat": 4,
 "nbformat_minor": 5
}
